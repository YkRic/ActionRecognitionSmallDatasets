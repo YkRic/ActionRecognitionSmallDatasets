{
 "cells": [
  {
   "cell_type": "code",
   "execution_count": 3,
   "metadata": {
    "collapsed": false
   },
   "outputs": [],
   "source": [
    "from os.path import dirname, basename\n",
    "\n",
    "all_paths = '/home/trainman/Documents/jrz/UCF11/paths.txt'\n",
    "dir_out = dirname(all_paths)+'/'\n",
    "train_path = dir_out + 'train_.txt'\n",
    "validation_path = dir_out + 'validation_.txt'\n",
    "test_path = dir_out + 'test_.txt'\n",
    "ftrain = open(train_path, 'w')\n",
    "fvalidation = open(validation_path, 'w')\n",
    "ftest = open(test_path, 'w')\n",
    "\n",
    "train_videos = 0\n",
    "validation_videos = 0\n",
    "test_videos = 0"
   ]
  },
  {
   "cell_type": "code",
   "execution_count": 11,
   "metadata": {
    "collapsed": false
   },
   "outputs": [
    {
     "ename": "IndentationError",
     "evalue": "expected an indented block (<ipython-input-11-0787eab7da36>, line 12)",
     "output_type": "error",
     "traceback": [
      "\u001b[0;36m  File \u001b[0;32m\"<ipython-input-11-0787eab7da36>\"\u001b[0;36m, line \u001b[0;32m12\u001b[0m\n\u001b[0;31m    else:\u001b[0m\n\u001b[0m       ^\u001b[0m\n\u001b[0;31mIndentationError\u001b[0m\u001b[0;31m:\u001b[0m expected an indented block\n"
     ]
    }
   ],
   "source": [
    "with open(all_paths) as paths:\n",
    "    for line in paths:        \n",
    "        fold = int(line.split()[0].split('/')[6].split('_')[-1])\n",
    "\n",
    "        if 0 < fold < 14:\n",
    "            print 13\n",
    "            #ftrain.write(line)\n",
    "\n",
    "        elif 13 < fold < 17:\n",
    "            #fvalidation.write(line)\n",
    "\n",
    "        else:\n",
    "            #ftest.write(line)"
   ]
  },
  {
   "cell_type": "code",
   "execution_count": 24,
   "metadata": {
    "collapsed": false
   },
   "outputs": [],
   "source": [
    "last_video = ''\n",
    "\n",
    "with open(all_paths) as paths:\n",
    "    for line in paths:        \n",
    "        fold = int(line.split()[0].split('/')[6].split('_')[-1])\n",
    "        \n",
    "        if 0 < fold < 14:\n",
    "            if last_video != line.split()[0].split('/')[-2]:\n",
    "                train_videos += 1\n",
    "                \n",
    "        elif 13 < fold < 17:\n",
    "            if last_video != line.split()[0].split('/')[-2]:\n",
    "                validation_videos += 1\n",
    "            \n",
    "        else:\n",
    "            if last_video != line.split()[0].split('/')[-2]:\n",
    "                test_videos += 1\n",
    "            \n",
    "        last_video = line.split()[0].split('/')[-2]\n",
    "        "
   ]
  },
  {
   "cell_type": "code",
   "execution_count": 25,
   "metadata": {
    "collapsed": false
   },
   "outputs": [
    {
     "data": {
      "text/plain": [
       "824"
      ]
     },
     "execution_count": 25,
     "metadata": {},
     "output_type": "execute_result"
    }
   ],
   "source": [
    "train_videos"
   ]
  },
  {
   "cell_type": "code",
   "execution_count": 26,
   "metadata": {
    "collapsed": false
   },
   "outputs": [
    {
     "data": {
      "text/plain": [
       "189"
      ]
     },
     "execution_count": 26,
     "metadata": {},
     "output_type": "execute_result"
    }
   ],
   "source": [
    "validation_videos"
   ]
  },
  {
   "cell_type": "code",
   "execution_count": 28,
   "metadata": {
    "collapsed": false
   },
   "outputs": [
    {
     "data": {
      "text/plain": [
       "587"
      ]
     },
     "execution_count": 28,
     "metadata": {},
     "output_type": "execute_result"
    }
   ],
   "source": [
    "test_videos"
   ]
  },
  {
   "cell_type": "code",
   "execution_count": 29,
   "metadata": {
    "collapsed": false
   },
   "outputs": [
    {
     "data": {
      "text/plain": [
       "1600"
      ]
     },
     "execution_count": 29,
     "metadata": {},
     "output_type": "execute_result"
    }
   ],
   "source": [
    "train_videos+validation_videos+test_videos"
   ]
  },
  {
   "cell_type": "code",
   "execution_count": 31,
   "metadata": {
    "collapsed": true
   },
   "outputs": [],
   "source": [
    "ftrain.close()\n",
    "fvalidation.close()\n",
    "ftest.close()"
   ]
  }
 ],
 "metadata": {
  "anaconda-cloud": {},
  "kernelspec": {
   "display_name": "Python [conda root]",
   "language": "python",
   "name": "conda-root-py"
  },
  "language_info": {
   "codemirror_mode": {
    "name": "ipython",
    "version": 2
   },
   "file_extension": ".py",
   "mimetype": "text/x-python",
   "name": "python",
   "nbconvert_exporter": "python",
   "pygments_lexer": "ipython2",
   "version": "2.7.12"
  }
 },
 "nbformat": 4,
 "nbformat_minor": 1
}
