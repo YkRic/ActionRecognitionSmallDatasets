{
 "cells": [
  {
   "cell_type": "code",
   "execution_count": 1,
   "metadata": {
    "collapsed": true
   },
   "outputs": [],
   "source": [
    "import pickle"
   ]
  },
  {
   "cell_type": "code",
   "execution_count": 7,
   "metadata": {
    "collapsed": false
   },
   "outputs": [],
   "source": [
    "source = '../experiments/vgg-16/ucf_rgb/'\n",
    "dropout = ['0.5', '0.7', '0.9', '0.95']\n",
    "lr = ['0.001', '0.0001', '1e-05', '0.005', '0.0005', '5e-05']\n",
    "archive = ['val_acc_hist_drop', 'loss_hist_drop', 'acc_hist_drop']\n",
    "val_acc_arc = 'val_acc_hist_drop'\n",
    "\n",
    "def find_best_model(d):\n",
    "    \n",
    "    best_acc = max(val['val_acc'] for key, val in d.items())\n",
    "\n",
    "    for key, val in d.items():\n",
    "        if val['val_acc'] == best_acc:\n",
    "            print('Model:'+str(key)+\n",
    "            ' - Dropout:'+val['drop']+\n",
    "            ' - Lr:'+val['lr']+\n",
    "            ' - Val_Acc:'+val['val_acc'])"
   ]
  },
  {
   "cell_type": "code",
   "execution_count": 8,
   "metadata": {
    "collapsed": true
   },
   "outputs": [],
   "source": [
    "def find_best_model(d):\n",
    "\n",
    "    best_acc = max(val['val_acc'] for key, val in d.items())\n",
    "    best = ''\n",
    "    \n",
    "    for key, val in d.items():\n",
    "        if val['val_acc'] == best_acc:\n",
    "            best =(str(key)+\n",
    "            ' - Dropout:'+val['drop']+\n",
    "            ' - Lr:'+val['lr']+\n",
    "            ' - Val_Acc:'+val['val_acc'])\n",
    "            \n",
    "    return best"
   ]
  },
  {
   "cell_type": "code",
   "execution_count": 9,
   "metadata": {
    "collapsed": true
   },
   "outputs": [],
   "source": [
    "def write_report(d):\n",
    "    result_file = open(source+'results_report.txt','w')\n",
    "\n",
    "    result_file.write('***************************************************************\\n')\n",
    "    result_file.write('*************************MODELS-REPORT*************************\\n')\n",
    "    result_file.write('***************************************************************\\n')\n",
    "    result_file.write('\\n')\n",
    "\n",
    "    for key,val in d.items():\n",
    "        result_file.write('Model:'+str(key)+\n",
    "                          ' - Dropout:'+val['drop']+\n",
    "                          ' - Lr:'+val['lr']+\n",
    "                          ' - Val_Acc:'+val['val_acc']+\n",
    "                          '\\n')\n",
    "\n",
    "    best = find_best_model(results_dic)\n",
    "    print best\n",
    "    \n",
    "    result_file.write('\\n\\nBest Model: '+ str(best))\n",
    "    \n",
    "    \n",
    "    result_file.close()"
   ]
  },
  {
   "cell_type": "code",
   "execution_count": 10,
   "metadata": {
    "collapsed": false
   },
   "outputs": [],
   "source": [
    "i = 1\n",
    "results_dic = {}\n",
    "\n",
    "for d in dropout:\n",
    "    for l in lr:\n",
    "        \n",
    "        arc = source + d + '/' + l + '/' + 'val_acc_hist_drop' + d + '_lr' + l + '.p'\n",
    "        result = pickle.load(open(arc))\n",
    "        results_dic[i] ={'drop':d, 'lr':l, 'val_acc': '{:1.4f}'.format(max(result))}\n",
    "        \n",
    "        i+=1"
   ]
  },
  {
   "cell_type": "code",
   "execution_count": 11,
   "metadata": {
    "collapsed": false
   },
   "outputs": [
    {
     "name": "stdout",
     "output_type": "stream",
     "text": [
      "16 - Dropout:0.9 - Lr:0.005 - Val_Acc:0.7893\n"
     ]
    }
   ],
   "source": [
    "write_report(results_dic)"
   ]
  }
 ],
 "metadata": {
  "anaconda-cloud": {},
  "kernelspec": {
   "display_name": "Python [conda root]",
   "language": "python",
   "name": "conda-root-py"
  },
  "language_info": {
   "codemirror_mode": {
    "name": "ipython",
    "version": 2
   },
   "file_extension": ".py",
   "mimetype": "text/x-python",
   "name": "python",
   "nbconvert_exporter": "python",
   "pygments_lexer": "ipython2",
   "version": "2.7.12"
  }
 },
 "nbformat": 4,
 "nbformat_minor": 1
}
