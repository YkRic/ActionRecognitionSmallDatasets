{
 "cells": [
  {
   "cell_type": "markdown",
   "metadata": {},
   "source": [
    "# Oversampling Data\n",
    "\n",
    "We copy and mirror data in order to balance data."
   ]
  },
  {
   "cell_type": "code",
   "execution_count": 1,
   "metadata": {
    "collapsed": true
   },
   "outputs": [],
   "source": [
    "import os\n",
    "import sys\n",
    "import cv2\n",
    "import math\n",
    "import random\n",
    "import operator\n",
    "import numpy as np"
   ]
  },
  {
   "cell_type": "markdown",
   "metadata": {},
   "source": [
    "### Constants"
   ]
  },
  {
   "cell_type": "code",
   "execution_count": 2,
   "metadata": {
    "collapsed": true
   },
   "outputs": [],
   "source": [
    "random.seed(12)\n",
    "TRAIN_PATH = '/home/aires/Documents/phd/dataset/DogCentric/train.txt'\n",
    "LEFT = 3\n",
    "RIGHT = 4\n",
    "ONLY_MIRROR_CLASSES = [LEFT, RIGHT]\n",
    "MIRROR = 1\n",
    "COPY = 0\n",
    "OPERATION = [COPY, MIRROR]"
   ]
  },
  {
   "cell_type": "markdown",
   "metadata": {},
   "source": [
    "### Development"
   ]
  },
  {
   "cell_type": "code",
   "execution_count": 11,
   "metadata": {},
   "outputs": [
    {
     "name": "stdout",
     "output_type": "stream",
     "text": [
      "Found class with most samples: 0\n",
      "Number of samples of this class: 1855\n"
     ]
    }
   ],
   "source": [
    "classes = dict()\n",
    "\n",
    "# Read file.\n",
    "with open(TRAIN_PATH, 'r') as r:\n",
    "    # Run over the file lines.\n",
    "    for line in r.readlines():\n",
    "        path, y = line.strip().split()\n",
    "        y = int(y)\n",
    "        \n",
    "        if not classes.has_key(y):\n",
    "            classes[y] = [path]\n",
    "        else:\n",
    "            classes[y].append(path)\n",
    "        \n",
    "# Count classes samples.\n",
    "max_class = np.argmax([len(classes[clss]) for clss in sorted(classes)])\n",
    "max_elements = len(classes[max_class])\n",
    "print \"Found class with most samples: %d\\nNumber of samples of this class: %d\" % (max_class, max_elements)"
   ]
  },
  {
   "cell_type": "code",
   "execution_count": 12,
   "metadata": {
    "scrolled": true
   },
   "outputs": [
    {
     "name": "stdout",
     "output_type": "stream",
     "text": [
      "Processing class: 1\n",
      "\tNumber of modification in this class: 585\n",
      "Processing class: 2\n",
      "\tNumber of modification in this class: 350\n",
      "Processing class: 5\n",
      "\tNumber of modification in this class: 300\n",
      "Processing class: 6\n",
      "\tNumber of modification in this class: 365\n",
      "Processing class: 7\n",
      "\tNumber of modification in this class: 1065\n",
      "Processing class: 8\n",
      "\tNumber of modification in this class: 210\n",
      "Processing class: 9\n",
      "\tNumber of modification in this class: 540\n"
     ]
    }
   ],
   "source": [
    "'''\n",
    "    Run over remaining classes, copy or mirror their elements until they have the same number of max_class.\n",
    "    In this first part, we only use the classes that have less samples than the max class and avoid\n",
    "    the two classes with mirror problems, which are LookLeft and LookRight.\n",
    "'''\n",
    "\n",
    "count = dict()\n",
    "\n",
    "NOT_LISTED = ONLY_MIRROR_CLASSES + [max_class]\n",
    "\n",
    "for clss in classes:\n",
    "    # Run over remaining classes.\n",
    "    if clss not in NOT_LISTED:\n",
    "        \n",
    "        print \"Processing class: %d\" % clss\n",
    "        \n",
    "        internal_count = 0 # Count the number of loops for each class.\n",
    "        marked = [] # Mark paths already used to avoid repetitions.\n",
    "        \n",
    "        # Run while the number of elements of the classe is smaller than max_class.\n",
    "        while len(classes[clss]) < max_elements:\n",
    "            \n",
    "            # Get a random element from the list.\n",
    "            random_path = random.choice(classes[clss])\n",
    "            # Choose the action (mirror or copy).\n",
    "            random_action = random.choice(OPERATION)\n",
    "            \n",
    "            while random_path in marked:\n",
    "                # Ensure getting a non-used path.\n",
    "                random_path = random.choice(classes[clss])\n",
    "            \n",
    "            if not count.has_key(clss):\n",
    "                # Initialize the count dictionary to the corresponding class.\n",
    "                count[clss] = dict()\n",
    "    \n",
    "            if random_action:                \n",
    "                img = cv2.imread(random_path, 1) # Read image.\n",
    "                rimg = img.copy()\n",
    "                rimg= cv2.flip(img,1) # Vertical flip.\n",
    "                \n",
    "                # Generate a new name to the output image using the existing one.\n",
    "                filename, file_extension = os.path.splitext(random_path)\n",
    "                new_filename = filename + \"_mirror\" + file_extension\n",
    "                cv2.imwrite(new_filename, rimg)\n",
    "                \n",
    "                # Save the output path to the maked list.\n",
    "                marked.append(new_filename)\n",
    "                \n",
    "                # Add to the list of paths in the class.\n",
    "                classes[clss].append(new_filename)\n",
    "                \n",
    "                # Increase the counter.\n",
    "                if not count[clss].has_key('mirror'):\n",
    "                    count[clss]['mirror'] = 1\n",
    "                else:\n",
    "                    count[clss]['mirror'] += 1\n",
    "                    \n",
    "            else:\n",
    "                # Just add a copy of the same path to the list of \n",
    "                classes[clss].append(random_path)\n",
    "                \n",
    "                if not count[clss].has_key('copy'):\n",
    "                    count[clss]['copy'] = 1\n",
    "                else:\n",
    "                    count[clss]['copy'] += 1\n",
    "                    \n",
    "            internal_count += 1\n",
    "        \n",
    "        print \"\\tNumber of modification in this class: %d\" % internal_count"
   ]
  },
  {
   "cell_type": "code",
   "execution_count": 13,
   "metadata": {},
   "outputs": [
    {
     "name": "stdout",
     "output_type": "stream",
     "text": [
      "Processing class: 3\n",
      "Saving in class: 4\n",
      "Processing class: 4\n",
      "Saving in class: 3\n"
     ]
    }
   ],
   "source": [
    "'''\n",
    "    To classes such as LookLeft and LookRight we just mirror them and throw the result in the other class\n",
    "'''\n",
    "\n",
    "for clss in ONLY_MIRROR_CLASSES:\n",
    "    # Run over selected classes.\n",
    "    \n",
    "    print \"Processing class: %d\" % clss\n",
    "    \n",
    "    # Move the destination according the left/right indication.\n",
    "    if clss == LEFT:\n",
    "        destination = RIGHT\n",
    "    else:\n",
    "        destination = LEFT\n",
    "    \n",
    "    if not count.has_key(destination):\n",
    "        count[destination] = dict()\n",
    "    \n",
    "    print \"Saving in class: %d\" % destination\n",
    "    \n",
    "    marked = []\n",
    "    \n",
    "    while len(classes[destination]) < max_elements:\n",
    "        \n",
    "        # Get a random element from the class.\n",
    "        random_path = random.choice(classes[clss])\n",
    "        \n",
    "        if random_path in marked or '_mirror' in random_path:\n",
    "            # Copy an existing image.\n",
    "            new_random_path = random.choice(classes[destination])\n",
    "            classes[destination].append(new_random_path)\n",
    "                \n",
    "            if not count[destination].has_key('copy'):\n",
    "                count[destination]['copy'] = 1\n",
    "            else:\n",
    "                count[destination]['copy'] += 1\n",
    "                \n",
    "            continue\n",
    "            \n",
    "        else:\n",
    "            marked.append(random_path)\n",
    "        \n",
    "        # Mirror.\n",
    "        img = cv2.imread(random_path, 1)\n",
    "        rimg = img.copy()\n",
    "        rimg= cv2.flip(img,1)\n",
    "\n",
    "        filename, file_extension = os.path.splitext(random_path)\n",
    "        if destination == RIGHT:\n",
    "            # Change the filename according to the destination.\n",
    "            new_filename = filename.replace('Left', 'Right') + \"_mirror\" + file_extension\n",
    "        else:\n",
    "            new_filename = filename.replace('Right', 'Left') + \"_mirror\" + file_extension\n",
    "            \n",
    "        cv2.imwrite(new_filename, rimg)\n",
    "\n",
    "        classes[destination].append(new_filename)\n",
    "\n",
    "        if not count[destination].has_key('mirror'):\n",
    "            count[destination][\"mirror\"] = 1\n",
    "        else:\n",
    "            count[destination]['mirror'] += 1"
   ]
  },
  {
   "cell_type": "code",
   "execution_count": 14,
   "metadata": {
    "collapsed": true
   },
   "outputs": [],
   "source": [
    "# Save new train.\n",
    "new_train_file = TRAIN_PATH[:-4] + \"_new.txt\"\n",
    "\n",
    "with open(new_train_file, 'w') as w:\n",
    "    for clss in classes:\n",
    "\n",
    "        for path in classes[clss]:\n",
    "            w.write(path + ' ' + str(clss) + \"\\n\")"
   ]
  },
  {
   "cell_type": "code",
   "execution_count": 15,
   "metadata": {},
   "outputs": [
    {
     "name": "stdout",
     "output_type": "stream",
     "text": [
      "302\n",
      "155\n",
      "619\n",
      "497\n",
      "170\n",
      "181\n",
      "498\n",
      "109\n",
      "279\n"
     ]
    }
   ],
   "source": [
    "# Save report.\n",
    "\n",
    "report = '/home/aires/Documents/phd/dataset/DogCentric/report.txt'\n",
    "\n",
    "with open(report, 'w') as ww:\n",
    "    \n",
    "    for clss in count:\n",
    "        ww.write(\"Class: %d\\n\" % clss)\n",
    "        ww.write('\\tMirrors added: %d\\n' % count[clss]['mirror'])\n",
    "        if count[clss].has_key('copy'):\n",
    "            ww.write('\\tCopies added: %d\\n' % count[clss]['copy'])"
   ]
  }
 ],
 "metadata": {
  "kernelspec": {
   "display_name": "Python 2",
   "language": "python",
   "name": "python2"
  },
  "language_info": {
   "codemirror_mode": {
    "name": "ipython",
    "version": 2
   },
   "file_extension": ".py",
   "mimetype": "text/x-python",
   "name": "python",
   "nbconvert_exporter": "python",
   "pygments_lexer": "ipython2",
   "version": "2.7.13"
  }
 },
 "nbformat": 4,
 "nbformat_minor": 2
}
