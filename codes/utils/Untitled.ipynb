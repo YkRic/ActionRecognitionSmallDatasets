{
 "cells": [
  {
   "cell_type": "code",
   "execution_count": 2,
   "metadata": {
    "collapsed": true
   },
   "outputs": [],
   "source": [
    "from sklearn.datasets import load_iris\n",
    "from sklearn.cluster import KMeans\n",
    "from collections import Counter\n",
    "from os.path import join, basename, dirname\n",
    "import numpy as np"
   ]
  },
  {
   "cell_type": "code",
   "execution_count": null,
   "metadata": {
    "collapsed": true
   },
   "outputs": [],
   "source": [
    "# np.random.seed(474)\n",
    "# X = np.random.rand(1,100000)\n",
    "# X = X.reshape(100000,1)\n",
    "# km = KMeans(n_clusters=4000, verbose=1, max_iter=10, n_init=8)\n",
    "# instance = km.fit(X)\n",
    "\n",
    "# np.random.seed(1398)\n",
    "# X = np.random.rand(1,100000)\n",
    "# X = X.reshape(100000,1)\n",
    "\n",
    "# count = Counter(instance.predict(X))"
   ]
  },
  {
   "cell_type": "markdown",
   "metadata": {},
   "source": [
    "### The format of the computed features\n",
    "\n",
    "#### The features are computed one by one, and each one in a single line, with the following format:\n",
    "\n",
    "frameNum mean_x mean_y var_x var_y length scale x_pos y_pos t_pos Trajectory HOG HOF MBHx MBHy<br>\n",
    "**The first 10 elements are information about the trajectory**:\n",
    "\n",
    "**frameNum**:     The trajectory ends on which frame <br>\n",
    "**mean_x**:       The mean value of the x coordinates of the trajectory<br>\n",
    "**mean_y**:       The mean value of the y coordinates of the trajectory<br>\n",
    "**var_x**:        The variance of the x coordinates of the trajectory<br>\n",
    "**var_y**:        The variance of the y coordinates of the trajectory<br>\n",
    "**length**:       The length of the trajectory<br>\n",
    "**scale**:        The trajectory is computed on which scale<br>\n",
    "**x_pos**:        The normalized x position w.r.t. the video (0~0.999), for spatio-temporal pyramid <br>\n",
    "**y_pos**:        The normalized y position w.r.t. the video (0~0.999), for spatio-temporal pyramid <br>\n",
    "**t_pos**:        The normalized t position w.r.t. the video (0~0.999), for spatio-temporal pyramid<br><br>\n",
    "\n",
    "### The following element are five descriptors concatenated one by one:\n",
    "\n",
    "**Trajectory**:    2x[trajectory length] (default 30 dimension) <br>\n",
    "**HOG**:           8x[spatial cells]x[spatial cells]x[temporal cells] (default 96 dimension)<br>\n",
    "**HOF**:           9x[spatial cells]x[spatial cells]x[temporal cells] (default 108 dimension)<br>\n",
    "**MBHx**:          8x[spatial cells]x[spatial cells]x[temporal cells] (default 96 dimension)<br>\n",
    "**MBHy**:          8x[spatial cells]x[spatial cells]x[temporal cells] (default 96 dimension)<br>"
   ]
  },
  {
   "cell_type": "code",
   "execution_count": null,
   "metadata": {
    "collapsed": true
   },
   "outputs": [],
   "source": []
  }
 ],
 "metadata": {
  "anaconda-cloud": {},
  "kernelspec": {
   "display_name": "Python [conda root]",
   "language": "python",
   "name": "conda-root-py"
  },
  "language_info": {
   "codemirror_mode": {
    "name": "ipython",
    "version": 2
   },
   "file_extension": ".py",
   "mimetype": "text/x-python",
   "name": "python",
   "nbconvert_exporter": "python",
   "pygments_lexer": "ipython2",
   "version": "2.7.12"
  }
 },
 "nbformat": 4,
 "nbformat_minor": 1
}
