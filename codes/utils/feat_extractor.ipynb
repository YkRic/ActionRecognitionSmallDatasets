{
 "cells": [
  {
   "cell_type": "code",
   "execution_count": 1,
   "metadata": {
    "collapsed": false
   },
   "outputs": [
    {
     "name": "stderr",
     "output_type": "stream",
     "text": [
      "Using TensorFlow backend.\n"
     ]
    }
   ],
   "source": [
    "import feature_extractor as fe"
   ]
  },
  {
   "cell_type": "code",
   "execution_count": 2,
   "metadata": {
    "collapsed": true
   },
   "outputs": [],
   "source": [
    "net = ['vgg16','inception_v3']\n",
    "\n",
    "weights = ['../experiments/vgg-16/kitchen_rgb/0.5/0.0005/weights.hdf5', \n",
    "           '../experiments/inception_v3/kitchen_rgb/0.9/0.005/weights.hdf5']\n",
    "\n",
    "paths = ['../Data/kscgr/path_1235.txt', '../Data/kscgr/path_4.txt', '../Data/kscgr/path_67.txt']"
   ]
  },
  {
   "cell_type": "code",
   "execution_count": 3,
   "metadata": {
    "collapsed": false
   },
   "outputs": [
    {
     "name": "stderr",
     "output_type": "stream",
     "text": [
      "[100 %] Time elapsed: 01:15:13 | ETA: 00:00:00\n",
      "Total time elapsed: 01:15:13\n"
     ]
    }
   ],
   "source": [
    "fe.extract(net[1], weights[1], paths[2])"
   ]
  },
  {
   "cell_type": "code",
   "execution_count": null,
   "metadata": {
    "collapsed": false
   },
   "outputs": [],
   "source": [
    "for i in range(0, 2):\n",
    "    for p in paths:         \n",
    "        print net[i] + ' - ' + weights[i] + ' - ' + p\n",
    "        fe.extract(net[i], weights[i], p)"
   ]
  }
 ],
 "metadata": {
  "anaconda-cloud": {},
  "kernelspec": {
   "display_name": "Python [conda root]",
   "language": "python",
   "name": "conda-root-py"
  },
  "language_info": {
   "codemirror_mode": {
    "name": "ipython",
    "version": 2
   },
   "file_extension": ".py",
   "mimetype": "text/x-python",
   "name": "python",
   "nbconvert_exporter": "python",
   "pygments_lexer": "ipython2",
   "version": "2.7.12"
  }
 },
 "nbformat": 4,
 "nbformat_minor": 1
}
