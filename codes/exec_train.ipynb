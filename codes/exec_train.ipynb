{
 "cells": [
  {
   "cell_type": "code",
   "execution_count": 1,
   "metadata": {},
   "outputs": [
    {
     "name": "stderr",
     "output_type": "stream",
     "text": [
      "Using TensorFlow backend.\n"
     ]
    },
    {
     "data": {
      "text/plain": [
       "'Done!'"
      ]
     },
     "execution_count": 1,
     "metadata": {},
     "output_type": "execute_result"
    }
   ],
   "source": [
    "import run\n",
    "import architectures\n",
    "import generator\n",
    "\n",
    "def start_config(gpu):\n",
    "    import os\n",
    "    import tensorflow as tf\n",
    "    os.environ[\"CUDA_DEVICE_ORDER\"]=\"PCI_BUS_ID\"   # see issue #152\n",
    "    os.environ[\"CUDA_VISIBLE_DEVICES\"]=str(gpu)\n",
    "    config = tf.ConfigProto()\n",
    "    config.gpu_options.allow_growth=True\n",
    "    sess = tf.Session(config=config)\n",
    "    \n",
    "    return 'Done!'\n",
    "\n",
    "\n",
    "# Choose your gpu wisely\n",
    "gpu_slot = 1\n",
    "\n",
    "start_config(gpu_slot)"
   ]
  },
  {
   "cell_type": "markdown",
   "metadata": {},
   "source": [
    "# 1. Training Phase"
   ]
  },
  {
   "cell_type": "code",
   "execution_count": 2,
   "metadata": {
    "collapsed": true
   },
   "outputs": [],
   "source": [
    "def start_train(network, dropout, learning_rate, batch, epoch, pre_trained, optimizer, train, validation):\n",
    "    \n",
    "    for net in network:\n",
    "        for drop in dropout:\n",
    "            for lrate in learning_rate:\n",
    "                model, params = architectures.get_model(net, \n",
    "                                                        dropout=drop, \n",
    "                                                        lr=lrate, \n",
    "                                                        batch_size=batch, \n",
    "                                                        opt=optimizer,\n",
    "                                                        nb_epoch=epoch\n",
    "                                                       )\n",
    "    \n",
    "    run.train(model, net, train, validation, params)"
   ]
  },
  {
   "cell_type": "markdown",
   "metadata": {},
   "source": [
    "## 1.1 Setup"
   ]
  },
  {
   "cell_type": "code",
   "execution_count": 5,
   "metadata": {
    "collapsed": true
   },
   "outputs": [],
   "source": [
    "network = ['vgg16'] # networks available (vgg16, inception_v3)\n",
    "dropout = [0.5]     # dropout values\n",
    "learning_rate = [0.001]        # learning rate values\n",
    "batch = 512         # size of the batch\n",
    "epoch = 10          # number of epochs\n",
    "optimizer = 'sgd'   # select your optimizer\n",
    "pre_trained = True  # pre-training in Imagenet True/False\n",
    "\n",
    "# files containing the path and the label for the actions\n",
    "train = 'Data/dogcentric/train.txt'\n",
    "validation = 'Data/dogcentric/validation.txt'"
   ]
  },
  {
   "cell_type": "markdown",
   "metadata": {},
   "source": [
    "## 1.2 Starting..."
   ]
  },
  {
   "cell_type": "code",
   "execution_count": 6,
   "metadata": {
    "scrolled": false
   },
   "outputs": [
    {
     "name": "stderr",
     "output_type": "stream",
     "text": [
      "2018-05-02 15:38:34,862 : INFO : Start the train with Net:vgg16, Drop:0.50, Lr:0.001000\n"
     ]
    },
    {
     "name": "stdout",
     "output_type": "stream",
     "text": [
      "Found 18550 images belonging to 10 classes.\n",
      "Found 3205 images belonging to 10 classes.\n",
      "Epoch 1/10\n",
      "35/36 [============================>.] - ETA: 0s - loss: 2.3690 - acc: 0.1125\n",
      "Epoch 00001: val_acc improved from -inf to 0.06250, saving model to experiments/vgg-16/0.5/0.001/weights.hdf5\n",
      "36/36 [==============================] - 30s 835ms/step - loss: 2.3676 - acc: 0.1120 - val_loss: 2.3305 - val_acc: 0.0625\n",
      "Epoch 2/10\n",
      "35/36 [============================>.] - ETA: 0s - loss: 2.2813 - acc: 0.1348\n",
      "Epoch 00002: val_acc improved from 0.06250 to 0.20312, saving model to experiments/vgg-16/0.5/0.001/weights.hdf5\n",
      "36/36 [==============================] - 18s 501ms/step - loss: 2.2796 - acc: 0.1372 - val_loss: 2.1971 - val_acc: 0.2031\n",
      "Epoch 3/10\n",
      "35/36 [============================>.] - ETA: 0s - loss: 2.2471 - acc: 0.1768\n",
      "Epoch 00003: val_acc improved from 0.20312 to 0.30208, saving model to experiments/vgg-16/0.5/0.001/weights.hdf5\n",
      "36/36 [==============================] - 18s 498ms/step - loss: 2.2450 - acc: 0.1788 - val_loss: 2.1727 - val_acc: 0.3021\n",
      "Epoch 4/10\n",
      "35/36 [============================>.] - ETA: 0s - loss: 2.1896 - acc: 0.2339\n",
      "Epoch 00004: val_acc did not improve\n",
      "36/36 [==============================] - 18s 492ms/step - loss: 2.1886 - acc: 0.2326 - val_loss: 2.2105 - val_acc: 0.1562\n",
      "Epoch 5/10\n",
      "35/36 [============================>.] - ETA: 0s - loss: 2.1581 - acc: 0.2295\n",
      "Epoch 00005: val_acc improved from 0.30208 to 0.33333, saving model to experiments/vgg-16/0.5/0.001/weights.hdf5\n",
      "36/36 [==============================] - 18s 492ms/step - loss: 2.1586 - acc: 0.2300 - val_loss: 2.1393 - val_acc: 0.3333\n",
      "Epoch 6/10\n",
      "35/36 [============================>.] - ETA: 0s - loss: 2.1003 - acc: 0.2991\n",
      "Epoch 00006: val_acc improved from 0.33333 to 0.36458, saving model to experiments/vgg-16/0.5/0.001/weights.hdf5\n",
      "36/36 [==============================] - 18s 498ms/step - loss: 2.1014 - acc: 0.2986 - val_loss: 2.1319 - val_acc: 0.3646\n",
      "Epoch 7/10\n",
      "35/36 [============================>.] - ETA: 0s - loss: 2.0602 - acc: 0.3196\n",
      "Epoch 00007: val_acc did not improve\n",
      "36/36 [==============================] - 19s 517ms/step - loss: 2.0589 - acc: 0.3203 - val_loss: 2.1401 - val_acc: 0.3021\n",
      "Epoch 8/10\n",
      "35/36 [============================>.] - ETA: 0s - loss: 2.0176 - acc: 0.3670\n",
      "Epoch 00008: val_acc did not improve\n",
      "36/36 [==============================] - 17s 483ms/step - loss: 2.0174 - acc: 0.3689 - val_loss: 2.0738 - val_acc: 0.2969\n",
      "Epoch 9/10\n",
      "35/36 [============================>.] - ETA: 0s - loss: 1.9814 - acc: 0.3920\n",
      "Epoch 00009: val_acc improved from 0.36458 to 0.44271, saving model to experiments/vgg-16/0.5/0.001/weights.hdf5\n",
      "36/36 [==============================] - 18s 491ms/step - loss: 1.9788 - acc: 0.3950 - val_loss: 2.0346 - val_acc: 0.4427\n",
      "Epoch 10/10\n",
      "35/36 [============================>.] - ETA: 0s - loss: 1.9478 - acc: 0.4080\n",
      "Epoch 00010: val_acc improved from 0.44271 to 0.45312, saving model to experiments/vgg-16/0.5/0.001/weights.hdf5\n",
      "36/36 [==============================] - 19s 524ms/step - loss: 1.9505 - acc: 0.4071 - val_loss: 2.0066 - val_acc: 0.4531\n"
     ]
    }
   ],
   "source": [
    "start_train(network, dropout, learning_rate, batch, epoch, pre_trained, optimizer, train, validation)"
   ]
  },
  {
   "cell_type": "markdown",
   "metadata": {},
   "source": [
    "# 2 Test Phase"
   ]
  },
  {
   "cell_type": "code",
   "execution_count": 2,
   "metadata": {},
   "outputs": [],
   "source": [
    "def start_test(net, w, test):\n",
    "    m, params = architectures.get_model(net, pre_trained=False, weights=w)\n",
    "    v = run.test(m, net, test, params, weights=w)\n",
    "    return v"
   ]
  },
  {
   "cell_type": "markdown",
   "metadata": {},
   "source": [
    "## 2.1 Setup"
   ]
  },
  {
   "cell_type": "code",
   "execution_count": 3,
   "metadata": {
    "collapsed": true
   },
   "outputs": [],
   "source": [
    "weight = 'experiments/vgg-16/0.5/0.001/weights.hdf5' # Select your weight\n",
    "network = 'vgg16'                                    # Select your network\n",
    "test_file = 'Data/dogcentric/test_t.txt'               # Select your test file"
   ]
  },
  {
   "cell_type": "code",
   "execution_count": 4,
   "metadata": {},
   "outputs": [
    {
     "name": "stdout",
     "output_type": "stream",
     "text": [
      "Found 100 images belonging to 10 classes.\n"
     ]
    },
    {
     "data": {
      "text/plain": [
       "[2.3497331937154136, 0.2708333333333333]"
      ]
     },
     "execution_count": 4,
     "metadata": {},
     "output_type": "execute_result"
    }
   ],
   "source": [
    "start_test(network, weight, test_file)"
   ]
  },
  {
   "cell_type": "code",
   "execution_count": null,
   "metadata": {
    "collapsed": true
   },
   "outputs": [],
   "source": [
    "import cPickle"
   ]
  },
  {
   "cell_type": "code",
   "execution_count": null,
   "metadata": {
    "collapsed": true
   },
   "outputs": [],
   "source": [
    "r = cPickle.load( open( 'experiments/inception_v3/dog_rgb/0.7/0.001/loss_hist_drop0.7_lr0.001.p', \"rb\" ))"
   ]
  },
  {
   "cell_type": "code",
   "execution_count": null,
   "metadata": {
    "collapsed": true
   },
   "outputs": [],
   "source": [
    "print r"
   ]
  },
  {
   "cell_type": "code",
   "execution_count": null,
   "metadata": {
    "collapsed": true
   },
   "outputs": [],
   "source": [
    "import cv2\n",
    "import numpy as np\n",
    "%matplotlib inline\n",
    "import matplotlib.pyplot as plt\n",
    "\n",
    "test = 'Data/dogcentric/test.txt'\n",
    "mean = cv2.imread('/home/trainman/Documents/jrz/TemporalNetV1/Data/dogcentric/mean.png')\n",
    "\n",
    "with open(test) as f:\n",
    "    for line in f:\n",
    "        path = line.split(' ')[0]\n",
    "        print path\n",
    "        img = cv2.imread(path)\n",
    "        imgplot = plt.imshow(img)\n",
    "        print img.shape\n",
    "        img = np.reshape(img, [1, 240, 240, 3])\n",
    "        print img.shape\n",
    "        img -= mean\n",
    "        \n",
    "        print m.predict(img)\n",
    "        break"
   ]
  },
  {
   "cell_type": "code",
   "execution_count": null,
   "metadata": {
    "collapsed": true
   },
   "outputs": [],
   "source": []
  },
  {
   "cell_type": "code",
   "execution_count": null,
   "metadata": {
    "collapsed": true,
    "scrolled": false
   },
   "outputs": [],
   "source": [
    "values = run.test(m, 'inception_v3', 'Data/test.txt', params, weights=best_model_weights)"
   ]
  },
  {
   "cell_type": "code",
   "execution_count": null,
   "metadata": {
    "collapsed": true
   },
   "outputs": [],
   "source": [
    "values"
   ]
  }
 ],
 "metadata": {
  "anaconda-cloud": {},
  "kernelspec": {
   "display_name": "Python 2",
   "language": "python",
   "name": "python2"
  },
  "language_info": {
   "codemirror_mode": {
    "name": "ipython",
    "version": 2
   },
   "file_extension": ".py",
   "mimetype": "text/x-python",
   "name": "python",
   "nbconvert_exporter": "python",
   "pygments_lexer": "ipython2",
   "version": "2.7.6"
  }
 },
 "nbformat": 4,
 "nbformat_minor": 1
}
