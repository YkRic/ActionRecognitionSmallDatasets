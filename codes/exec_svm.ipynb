{
 "cells": [
  {
   "cell_type": "code",
   "execution_count": 22,
   "metadata": {
    "collapsed": true
   },
   "outputs": [],
   "source": [
    "from utils import svm"
   ]
  },
  {
   "cell_type": "code",
   "execution_count": 24,
   "metadata": {
    "collapsed": true
   },
   "outputs": [],
   "source": [
    "train = '../TemporalNetV1/experiments/baseline/hof/svm_pure/train_val_hof_svm.txt'\n",
    "validation = '../TemporalNetV1/experiments/baseline/hof/svm_pure/test_hof_svm.txt'"
   ]
  },
  {
   "cell_type": "code",
   "execution_count": null,
   "metadata": {},
   "outputs": [
    {
     "name": "stderr",
     "output_type": "stream",
     "text": [
      "2018-01-23 18:14:20,348 : INFO : processing test images from /home/trainman/Documents/jrz/TemporalNetV1/experiments/baseline/hof/svm_pure/train_val_hof_svm.txt\n"
     ]
    }
   ],
   "source": [
    "c=1\n",
    "\n",
    "path_fileout = 'experiments/baseline/hof/svm_pure/svm.txt'\n",
    "\n",
    "path = path_fileout+str(c)+validation.split('/')[-1].split('.txt')[0]+'_svm.txt'\n",
    "\n",
    "svm.classifier_svm(train, validation, fileout=path)"
   ]
  }
 ],
 "metadata": {
  "anaconda-cloud": {},
  "kernelspec": {
   "display_name": "Python 2",
   "language": "python",
   "name": "python2"
  },
  "language_info": {
   "codemirror_mode": {
    "name": "ipython",
    "version": 2
   },
   "file_extension": ".py",
   "mimetype": "text/x-python",
   "name": "python",
   "nbconvert_exporter": "python",
   "pygments_lexer": "ipython2",
   "version": "2.7.6"
  }
 },
 "nbformat": 4,
 "nbformat_minor": 1
}
